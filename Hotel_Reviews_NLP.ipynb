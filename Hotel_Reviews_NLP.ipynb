{
 "cells": [
  {
   "cell_type": "code",
   "execution_count": 32,
   "metadata": {
    "collapsed": true
   },
   "outputs": [],
   "source": [
    "import numpy as np\n",
    "import pandas as pd\n",
    "import matplotlib.pyplot as plt\n",
    "%matplotlib inline\n",
    "import seaborn as sns"
   ]
  },
  {
   "cell_type": "markdown",
   "metadata": {},
   "source": [
    "# EXPLORATORY DATA ANALYSIS"
   ]
  },
  {
   "cell_type": "code",
   "execution_count": 33,
   "metadata": {
    "collapsed": true
   },
   "outputs": [],
   "source": [
    "# Importing Data\n",
    "\n",
    "reviews = pd.read_csv('7282_1.csv')"
   ]
  },
  {
   "cell_type": "code",
   "execution_count": 34,
   "metadata": {
    "collapsed": false
   },
   "outputs": [
    {
     "name": "stdout",
     "output_type": "stream",
     "text": [
      "<class 'pandas.core.frame.DataFrame'>\n",
      "RangeIndex: 35912 entries, 0 to 35911\n",
      "Data columns (total 19 columns):\n",
      "address                 35912 non-null object\n",
      "categories              35912 non-null object\n",
      "city                    35912 non-null object\n",
      "country                 35912 non-null object\n",
      "latitude                35826 non-null float64\n",
      "longitude               35826 non-null float64\n",
      "name                    35912 non-null object\n",
      "postalCode              35857 non-null object\n",
      "province                35912 non-null object\n",
      "reviews.date            35653 non-null object\n",
      "reviews.dateAdded       35912 non-null object\n",
      "reviews.doRecommend     0 non-null float64\n",
      "reviews.id              0 non-null float64\n",
      "reviews.rating          35050 non-null float64\n",
      "reviews.text            35890 non-null object\n",
      "reviews.title           34291 non-null object\n",
      "reviews.userCity        16263 non-null object\n",
      "reviews.username        35869 non-null object\n",
      "reviews.userProvince    17518 non-null object\n",
      "dtypes: float64(5), object(14)\n",
      "memory usage: 5.2+ MB\n"
     ]
    }
   ],
   "source": [
    "# Data Info\n",
    "\n",
    "reviews.info()"
   ]
  },
  {
   "cell_type": "code",
   "execution_count": 35,
   "metadata": {
    "collapsed": false
   },
   "outputs": [
    {
     "name": "stderr",
     "output_type": "stream",
     "text": [
      "C:\\Users\\kulkarni\\Anaconda3\\lib\\site-packages\\numpy\\lib\\function_base.py:3834: RuntimeWarning: Invalid value encountered in percentile\n",
      "  RuntimeWarning)\n"
     ]
    },
    {
     "data": {
      "text/html": [
       "<div>\n",
       "<table border=\"1\" class=\"dataframe\">\n",
       "  <thead>\n",
       "    <tr style=\"text-align: right;\">\n",
       "      <th></th>\n",
       "      <th>latitude</th>\n",
       "      <th>longitude</th>\n",
       "      <th>reviews.doRecommend</th>\n",
       "      <th>reviews.id</th>\n",
       "      <th>reviews.rating</th>\n",
       "    </tr>\n",
       "  </thead>\n",
       "  <tbody>\n",
       "    <tr>\n",
       "      <th>count</th>\n",
       "      <td>35826.000000</td>\n",
       "      <td>35826.000000</td>\n",
       "      <td>0.0</td>\n",
       "      <td>0.0</td>\n",
       "      <td>35050.000000</td>\n",
       "    </tr>\n",
       "    <tr>\n",
       "      <th>mean</th>\n",
       "      <td>37.285008</td>\n",
       "      <td>-85.725758</td>\n",
       "      <td>NaN</td>\n",
       "      <td>NaN</td>\n",
       "      <td>3.776431</td>\n",
       "    </tr>\n",
       "    <tr>\n",
       "      <th>std</th>\n",
       "      <td>6.996544</td>\n",
       "      <td>33.062263</td>\n",
       "      <td>NaN</td>\n",
       "      <td>NaN</td>\n",
       "      <td>1.416195</td>\n",
       "    </tr>\n",
       "    <tr>\n",
       "      <th>min</th>\n",
       "      <td>-25.436750</td>\n",
       "      <td>-166.559040</td>\n",
       "      <td>NaN</td>\n",
       "      <td>NaN</td>\n",
       "      <td>0.000000</td>\n",
       "    </tr>\n",
       "    <tr>\n",
       "      <th>25%</th>\n",
       "      <td>NaN</td>\n",
       "      <td>NaN</td>\n",
       "      <td>NaN</td>\n",
       "      <td>NaN</td>\n",
       "      <td>NaN</td>\n",
       "    </tr>\n",
       "    <tr>\n",
       "      <th>50%</th>\n",
       "      <td>NaN</td>\n",
       "      <td>NaN</td>\n",
       "      <td>NaN</td>\n",
       "      <td>NaN</td>\n",
       "      <td>NaN</td>\n",
       "    </tr>\n",
       "    <tr>\n",
       "      <th>75%</th>\n",
       "      <td>NaN</td>\n",
       "      <td>NaN</td>\n",
       "      <td>NaN</td>\n",
       "      <td>NaN</td>\n",
       "      <td>NaN</td>\n",
       "    </tr>\n",
       "    <tr>\n",
       "      <th>max</th>\n",
       "      <td>63.877674</td>\n",
       "      <td>115.164407</td>\n",
       "      <td>NaN</td>\n",
       "      <td>NaN</td>\n",
       "      <td>10.000000</td>\n",
       "    </tr>\n",
       "  </tbody>\n",
       "</table>\n",
       "</div>"
      ],
      "text/plain": [
       "           latitude     longitude  reviews.doRecommend  reviews.id  \\\n",
       "count  35826.000000  35826.000000                  0.0         0.0   \n",
       "mean      37.285008    -85.725758                  NaN         NaN   \n",
       "std        6.996544     33.062263                  NaN         NaN   \n",
       "min      -25.436750   -166.559040                  NaN         NaN   \n",
       "25%             NaN           NaN                  NaN         NaN   \n",
       "50%             NaN           NaN                  NaN         NaN   \n",
       "75%             NaN           NaN                  NaN         NaN   \n",
       "max       63.877674    115.164407                  NaN         NaN   \n",
       "\n",
       "       reviews.rating  \n",
       "count    35050.000000  \n",
       "mean         3.776431  \n",
       "std          1.416195  \n",
       "min          0.000000  \n",
       "25%               NaN  \n",
       "50%               NaN  \n",
       "75%               NaN  \n",
       "max         10.000000  "
      ]
     },
     "execution_count": 35,
     "metadata": {},
     "output_type": "execute_result"
    }
   ],
   "source": [
    "reviews.describe()"
   ]
  },
  {
   "cell_type": "code",
   "execution_count": 36,
   "metadata": {
    "collapsed": false
   },
   "outputs": [
    {
     "data": {
      "text/html": [
       "<div>\n",
       "<table border=\"1\" class=\"dataframe\">\n",
       "  <thead>\n",
       "    <tr style=\"text-align: right;\">\n",
       "      <th></th>\n",
       "      <th>address</th>\n",
       "      <th>categories</th>\n",
       "      <th>city</th>\n",
       "      <th>country</th>\n",
       "      <th>latitude</th>\n",
       "      <th>longitude</th>\n",
       "      <th>name</th>\n",
       "      <th>postalCode</th>\n",
       "      <th>province</th>\n",
       "      <th>reviews.date</th>\n",
       "      <th>reviews.dateAdded</th>\n",
       "      <th>reviews.doRecommend</th>\n",
       "      <th>reviews.id</th>\n",
       "      <th>reviews.rating</th>\n",
       "      <th>reviews.text</th>\n",
       "      <th>reviews.title</th>\n",
       "      <th>reviews.userCity</th>\n",
       "      <th>reviews.username</th>\n",
       "      <th>reviews.userProvince</th>\n",
       "    </tr>\n",
       "  </thead>\n",
       "  <tbody>\n",
       "    <tr>\n",
       "      <th>0</th>\n",
       "      <td>Riviera San Nicol 11/a</td>\n",
       "      <td>Hotels</td>\n",
       "      <td>Mableton</td>\n",
       "      <td>US</td>\n",
       "      <td>45.421611</td>\n",
       "      <td>12.376187</td>\n",
       "      <td>Hotel Russo Palace</td>\n",
       "      <td>30126</td>\n",
       "      <td>GA</td>\n",
       "      <td>2013-09-22T00:00:00Z</td>\n",
       "      <td>2016-10-24T00:00:25Z</td>\n",
       "      <td>NaN</td>\n",
       "      <td>NaN</td>\n",
       "      <td>4.0</td>\n",
       "      <td>Pleasant 10 min walk along the sea front to th...</td>\n",
       "      <td>Good location away from the crouds</td>\n",
       "      <td>NaN</td>\n",
       "      <td>Russ (kent)</td>\n",
       "      <td>NaN</td>\n",
       "    </tr>\n",
       "    <tr>\n",
       "      <th>1</th>\n",
       "      <td>Riviera San Nicol 11/a</td>\n",
       "      <td>Hotels</td>\n",
       "      <td>Mableton</td>\n",
       "      <td>US</td>\n",
       "      <td>45.421611</td>\n",
       "      <td>12.376187</td>\n",
       "      <td>Hotel Russo Palace</td>\n",
       "      <td>30126</td>\n",
       "      <td>GA</td>\n",
       "      <td>2015-04-03T00:00:00Z</td>\n",
       "      <td>2016-10-24T00:00:25Z</td>\n",
       "      <td>NaN</td>\n",
       "      <td>NaN</td>\n",
       "      <td>5.0</td>\n",
       "      <td>Really lovely hotel. Stayed on the very top fl...</td>\n",
       "      <td>Great hotel with Jacuzzi bath!</td>\n",
       "      <td>NaN</td>\n",
       "      <td>A Traveler</td>\n",
       "      <td>NaN</td>\n",
       "    </tr>\n",
       "    <tr>\n",
       "      <th>2</th>\n",
       "      <td>Riviera San Nicol 11/a</td>\n",
       "      <td>Hotels</td>\n",
       "      <td>Mableton</td>\n",
       "      <td>US</td>\n",
       "      <td>45.421611</td>\n",
       "      <td>12.376187</td>\n",
       "      <td>Hotel Russo Palace</td>\n",
       "      <td>30126</td>\n",
       "      <td>GA</td>\n",
       "      <td>2014-05-13T00:00:00Z</td>\n",
       "      <td>2016-10-24T00:00:25Z</td>\n",
       "      <td>NaN</td>\n",
       "      <td>NaN</td>\n",
       "      <td>5.0</td>\n",
       "      <td>Ett mycket bra hotell. Det som drog ner betyge...</td>\n",
       "      <td>Lugnt l��ge</td>\n",
       "      <td>NaN</td>\n",
       "      <td>Maud</td>\n",
       "      <td>NaN</td>\n",
       "    </tr>\n",
       "    <tr>\n",
       "      <th>3</th>\n",
       "      <td>Riviera San Nicol 11/a</td>\n",
       "      <td>Hotels</td>\n",
       "      <td>Mableton</td>\n",
       "      <td>US</td>\n",
       "      <td>45.421611</td>\n",
       "      <td>12.376187</td>\n",
       "      <td>Hotel Russo Palace</td>\n",
       "      <td>30126</td>\n",
       "      <td>GA</td>\n",
       "      <td>2013-10-27T00:00:00Z</td>\n",
       "      <td>2016-10-24T00:00:25Z</td>\n",
       "      <td>NaN</td>\n",
       "      <td>NaN</td>\n",
       "      <td>5.0</td>\n",
       "      <td>We stayed here for four nights in October. The...</td>\n",
       "      <td>Good location on the Lido.</td>\n",
       "      <td>NaN</td>\n",
       "      <td>Julie</td>\n",
       "      <td>NaN</td>\n",
       "    </tr>\n",
       "    <tr>\n",
       "      <th>4</th>\n",
       "      <td>Riviera San Nicol 11/a</td>\n",
       "      <td>Hotels</td>\n",
       "      <td>Mableton</td>\n",
       "      <td>US</td>\n",
       "      <td>45.421611</td>\n",
       "      <td>12.376187</td>\n",
       "      <td>Hotel Russo Palace</td>\n",
       "      <td>30126</td>\n",
       "      <td>GA</td>\n",
       "      <td>2015-03-05T00:00:00Z</td>\n",
       "      <td>2016-10-24T00:00:25Z</td>\n",
       "      <td>NaN</td>\n",
       "      <td>NaN</td>\n",
       "      <td>5.0</td>\n",
       "      <td>We stayed here for four nights in October. The...</td>\n",
       "      <td>������ ���������������</td>\n",
       "      <td>NaN</td>\n",
       "      <td>sungchul</td>\n",
       "      <td>NaN</td>\n",
       "    </tr>\n",
       "  </tbody>\n",
       "</table>\n",
       "</div>"
      ],
      "text/plain": [
       "                  address categories      city country   latitude  longitude  \\\n",
       "0  Riviera San Nicol 11/a     Hotels  Mableton      US  45.421611  12.376187   \n",
       "1  Riviera San Nicol 11/a     Hotels  Mableton      US  45.421611  12.376187   \n",
       "2  Riviera San Nicol 11/a     Hotels  Mableton      US  45.421611  12.376187   \n",
       "3  Riviera San Nicol 11/a     Hotels  Mableton      US  45.421611  12.376187   \n",
       "4  Riviera San Nicol 11/a     Hotels  Mableton      US  45.421611  12.376187   \n",
       "\n",
       "                 name postalCode province          reviews.date  \\\n",
       "0  Hotel Russo Palace      30126       GA  2013-09-22T00:00:00Z   \n",
       "1  Hotel Russo Palace      30126       GA  2015-04-03T00:00:00Z   \n",
       "2  Hotel Russo Palace      30126       GA  2014-05-13T00:00:00Z   \n",
       "3  Hotel Russo Palace      30126       GA  2013-10-27T00:00:00Z   \n",
       "4  Hotel Russo Palace      30126       GA  2015-03-05T00:00:00Z   \n",
       "\n",
       "      reviews.dateAdded  reviews.doRecommend  reviews.id  reviews.rating  \\\n",
       "0  2016-10-24T00:00:25Z                  NaN         NaN             4.0   \n",
       "1  2016-10-24T00:00:25Z                  NaN         NaN             5.0   \n",
       "2  2016-10-24T00:00:25Z                  NaN         NaN             5.0   \n",
       "3  2016-10-24T00:00:25Z                  NaN         NaN             5.0   \n",
       "4  2016-10-24T00:00:25Z                  NaN         NaN             5.0   \n",
       "\n",
       "                                        reviews.text  \\\n",
       "0  Pleasant 10 min walk along the sea front to th...   \n",
       "1  Really lovely hotel. Stayed on the very top fl...   \n",
       "2  Ett mycket bra hotell. Det som drog ner betyge...   \n",
       "3  We stayed here for four nights in October. The...   \n",
       "4  We stayed here for four nights in October. The...   \n",
       "\n",
       "                        reviews.title reviews.userCity reviews.username  \\\n",
       "0  Good location away from the crouds              NaN      Russ (kent)   \n",
       "1      Great hotel with Jacuzzi bath!              NaN       A Traveler   \n",
       "2                         Lugnt l��ge              NaN             Maud   \n",
       "3          Good location on the Lido.              NaN            Julie   \n",
       "4              ������ ���������������              NaN         sungchul   \n",
       "\n",
       "  reviews.userProvince  \n",
       "0                  NaN  \n",
       "1                  NaN  \n",
       "2                  NaN  \n",
       "3                  NaN  \n",
       "4                  NaN  "
      ]
     },
     "execution_count": 36,
     "metadata": {},
     "output_type": "execute_result"
    }
   ],
   "source": [
    "reviews.head()"
   ]
  },
  {
   "cell_type": "code",
   "execution_count": 37,
   "metadata": {
    "collapsed": true
   },
   "outputs": [],
   "source": [
    "# First lets change the columns which are having '.' , which are of our interest\n",
    "\n",
    "reviews = reviews.rename(index=str,columns={'reviews.rating':'reviewsrating','reviews.text':'reviewstext'})"
   ]
  },
  {
   "cell_type": "code",
   "execution_count": 38,
   "metadata": {
    "collapsed": false
   },
   "outputs": [
    {
     "name": "stdout",
     "output_type": "stream",
     "text": [
      "<class 'pandas.core.frame.DataFrame'>\n",
      "Index: 35912 entries, 0 to 35911\n",
      "Data columns (total 19 columns):\n",
      "address                 35912 non-null object\n",
      "categories              35912 non-null object\n",
      "city                    35912 non-null object\n",
      "country                 35912 non-null object\n",
      "latitude                35826 non-null float64\n",
      "longitude               35826 non-null float64\n",
      "name                    35912 non-null object\n",
      "postalCode              35857 non-null object\n",
      "province                35912 non-null object\n",
      "reviews.date            35653 non-null object\n",
      "reviews.dateAdded       35912 non-null object\n",
      "reviews.doRecommend     0 non-null float64\n",
      "reviews.id              0 non-null float64\n",
      "reviewsrating           35050 non-null float64\n",
      "reviewstext             35890 non-null object\n",
      "reviews.title           34291 non-null object\n",
      "reviews.userCity        16263 non-null object\n",
      "reviews.username        35869 non-null object\n",
      "reviews.userProvince    17518 non-null object\n",
      "dtypes: float64(5), object(14)\n",
      "memory usage: 5.5+ MB\n"
     ]
    }
   ],
   "source": [
    "# Cross check whether the names have changed\n",
    "\n",
    "reviews.info()"
   ]
  },
  {
   "cell_type": "code",
   "execution_count": 39,
   "metadata": {
    "collapsed": false
   },
   "outputs": [
    {
     "data": {
      "text/plain": [
       "array([  4. ,   5. ,   3. ,   1. ,   2. ,   0. ,   4.1,   nan,   4.9,\n",
       "         4.8,   3.4,   2.4,   3.1,   3.2,   3.3,   9.6,  10. ,   8.3,\n",
       "         8.8,   9.2,   7.5,   7.9,   7.1,   3.8,   5.8,   6.7,   6.3,\n",
       "         4.2,   4.5,   3.9,   1.3,   4.3,   4.7,   2.8,   4.4,   1.5,\n",
       "         4.6,   3.7,   5.4,   2.5,   6. ,   2.9,   7. ,   9.5])"
      ]
     },
     "execution_count": 39,
     "metadata": {},
     "output_type": "execute_result"
    }
   ],
   "source": [
    "# Let us look at some unique features in the datacolumn reviewsrating\n",
    "\n",
    "reviews['reviewsrating'].unique()\n",
    "\n"
   ]
  },
  {
   "cell_type": "code",
   "execution_count": 40,
   "metadata": {
    "collapsed": true
   },
   "outputs": [],
   "source": [
    "# We can see that the values of the ratings are disperesed in between 0 and 10 along with nan\n",
    "# Selecting reviews in between 1 and 5,including 1 and 5\n",
    "\n",
    "reviews = reviews[reviews['reviewsrating']>0]\n",
    "\n"
   ]
  },
  {
   "cell_type": "code",
   "execution_count": 41,
   "metadata": {
    "collapsed": true
   },
   "outputs": [],
   "source": [
    "reviews = reviews[reviews['reviewsrating']<=5]"
   ]
  },
  {
   "cell_type": "code",
   "execution_count": 42,
   "metadata": {
    "collapsed": false
   },
   "outputs": [
    {
     "data": {
      "text/plain": [
       "array([ 4. ,  5. ,  3. ,  1. ,  2. ,  4.1,  4.9,  4.8,  3.4,  2.4,  3.1,\n",
       "        3.2,  3.3,  3.8,  4.2,  4.5,  3.9,  1.3,  4.3,  4.7,  2.8,  4.4,\n",
       "        1.5,  4.6,  3.7,  2.5,  2.9])"
      ]
     },
     "execution_count": 42,
     "metadata": {},
     "output_type": "execute_result"
    }
   ],
   "source": [
    "# We have tried to limit the rating in between 1  and 5, let us check if we have succeded\n",
    "\n",
    "reviews['reviewsrating'].unique()"
   ]
  },
  {
   "cell_type": "code",
   "execution_count": 43,
   "metadata": {
    "collapsed": false
   },
   "outputs": [
    {
     "name": "stdout",
     "output_type": "stream",
     "text": [
      "0        4.0\n",
      "1        5.0\n",
      "2        5.0\n",
      "3        5.0\n",
      "4        5.0\n",
      "5        5.0\n",
      "6        4.0\n",
      "7        4.0\n",
      "8        3.0\n",
      "9        4.0\n",
      "10       4.0\n",
      "11       3.0\n",
      "12       4.0\n",
      "13       4.0\n",
      "14       4.0\n",
      "15       4.0\n",
      "16       4.0\n",
      "17       4.0\n",
      "18       4.0\n",
      "19       1.0\n",
      "20       1.0\n",
      "21       5.0\n",
      "22       4.0\n",
      "23       5.0\n",
      "24       5.0\n",
      "25       5.0\n",
      "26       4.0\n",
      "27       4.0\n",
      "28       4.0\n",
      "29       4.0\n",
      "        ... \n",
      "35880    5.0\n",
      "35881    4.0\n",
      "35882    5.0\n",
      "35883    5.0\n",
      "35884    5.0\n",
      "35885    5.0\n",
      "35886    5.0\n",
      "35887    5.0\n",
      "35888    4.0\n",
      "35889    5.0\n",
      "35890    5.0\n",
      "35891    5.0\n",
      "35892    5.0\n",
      "35893    5.0\n",
      "35894    5.0\n",
      "35895    5.0\n",
      "35896    5.0\n",
      "35897    5.0\n",
      "35898    5.0\n",
      "35899    5.0\n",
      "35900    5.0\n",
      "35901    5.0\n",
      "35902    1.0\n",
      "35903    5.0\n",
      "35904    5.0\n",
      "35905    5.0\n",
      "35906    5.0\n",
      "35907    5.0\n",
      "35908    5.0\n",
      "35909    5.0\n",
      "Name: reviewsrating, dtype: float64\n"
     ]
    }
   ],
   "source": [
    "# We can see that the reviews have been limited in between 1 and 5\n",
    "# Converting the float ttype into integer\n",
    "\n",
    "print(reviews['reviewsrating'])\n",
    "\n",
    "\n",
    "\n"
   ]
  },
  {
   "cell_type": "code",
   "execution_count": 44,
   "metadata": {
    "collapsed": false
   },
   "outputs": [],
   "source": [
    "reviews['reviewsrating'] = reviews['reviewsrating'].astype(int)"
   ]
  },
  {
   "cell_type": "code",
   "execution_count": 45,
   "metadata": {
    "collapsed": false
   },
   "outputs": [
    {
     "data": {
      "text/html": [
       "<div>\n",
       "<table border=\"1\" class=\"dataframe\">\n",
       "  <thead>\n",
       "    <tr style=\"text-align: right;\">\n",
       "      <th></th>\n",
       "      <th>address</th>\n",
       "      <th>categories</th>\n",
       "      <th>city</th>\n",
       "      <th>country</th>\n",
       "      <th>latitude</th>\n",
       "      <th>longitude</th>\n",
       "      <th>name</th>\n",
       "      <th>postalCode</th>\n",
       "      <th>province</th>\n",
       "      <th>reviews.date</th>\n",
       "      <th>reviews.dateAdded</th>\n",
       "      <th>reviews.doRecommend</th>\n",
       "      <th>reviews.id</th>\n",
       "      <th>reviewsrating</th>\n",
       "      <th>reviewstext</th>\n",
       "      <th>reviews.title</th>\n",
       "      <th>reviews.userCity</th>\n",
       "      <th>reviews.username</th>\n",
       "      <th>reviews.userProvince</th>\n",
       "    </tr>\n",
       "  </thead>\n",
       "  <tbody>\n",
       "    <tr>\n",
       "      <th>0</th>\n",
       "      <td>Riviera San Nicol 11/a</td>\n",
       "      <td>Hotels</td>\n",
       "      <td>Mableton</td>\n",
       "      <td>US</td>\n",
       "      <td>45.421611</td>\n",
       "      <td>12.376187</td>\n",
       "      <td>Hotel Russo Palace</td>\n",
       "      <td>30126</td>\n",
       "      <td>GA</td>\n",
       "      <td>2013-09-22T00:00:00Z</td>\n",
       "      <td>2016-10-24T00:00:25Z</td>\n",
       "      <td>NaN</td>\n",
       "      <td>NaN</td>\n",
       "      <td>4</td>\n",
       "      <td>Pleasant 10 min walk along the sea front to th...</td>\n",
       "      <td>Good location away from the crouds</td>\n",
       "      <td>NaN</td>\n",
       "      <td>Russ (kent)</td>\n",
       "      <td>NaN</td>\n",
       "    </tr>\n",
       "    <tr>\n",
       "      <th>1</th>\n",
       "      <td>Riviera San Nicol 11/a</td>\n",
       "      <td>Hotels</td>\n",
       "      <td>Mableton</td>\n",
       "      <td>US</td>\n",
       "      <td>45.421611</td>\n",
       "      <td>12.376187</td>\n",
       "      <td>Hotel Russo Palace</td>\n",
       "      <td>30126</td>\n",
       "      <td>GA</td>\n",
       "      <td>2015-04-03T00:00:00Z</td>\n",
       "      <td>2016-10-24T00:00:25Z</td>\n",
       "      <td>NaN</td>\n",
       "      <td>NaN</td>\n",
       "      <td>5</td>\n",
       "      <td>Really lovely hotel. Stayed on the very top fl...</td>\n",
       "      <td>Great hotel with Jacuzzi bath!</td>\n",
       "      <td>NaN</td>\n",
       "      <td>A Traveler</td>\n",
       "      <td>NaN</td>\n",
       "    </tr>\n",
       "    <tr>\n",
       "      <th>2</th>\n",
       "      <td>Riviera San Nicol 11/a</td>\n",
       "      <td>Hotels</td>\n",
       "      <td>Mableton</td>\n",
       "      <td>US</td>\n",
       "      <td>45.421611</td>\n",
       "      <td>12.376187</td>\n",
       "      <td>Hotel Russo Palace</td>\n",
       "      <td>30126</td>\n",
       "      <td>GA</td>\n",
       "      <td>2014-05-13T00:00:00Z</td>\n",
       "      <td>2016-10-24T00:00:25Z</td>\n",
       "      <td>NaN</td>\n",
       "      <td>NaN</td>\n",
       "      <td>5</td>\n",
       "      <td>Ett mycket bra hotell. Det som drog ner betyge...</td>\n",
       "      <td>Lugnt l��ge</td>\n",
       "      <td>NaN</td>\n",
       "      <td>Maud</td>\n",
       "      <td>NaN</td>\n",
       "    </tr>\n",
       "    <tr>\n",
       "      <th>3</th>\n",
       "      <td>Riviera San Nicol 11/a</td>\n",
       "      <td>Hotels</td>\n",
       "      <td>Mableton</td>\n",
       "      <td>US</td>\n",
       "      <td>45.421611</td>\n",
       "      <td>12.376187</td>\n",
       "      <td>Hotel Russo Palace</td>\n",
       "      <td>30126</td>\n",
       "      <td>GA</td>\n",
       "      <td>2013-10-27T00:00:00Z</td>\n",
       "      <td>2016-10-24T00:00:25Z</td>\n",
       "      <td>NaN</td>\n",
       "      <td>NaN</td>\n",
       "      <td>5</td>\n",
       "      <td>We stayed here for four nights in October. The...</td>\n",
       "      <td>Good location on the Lido.</td>\n",
       "      <td>NaN</td>\n",
       "      <td>Julie</td>\n",
       "      <td>NaN</td>\n",
       "    </tr>\n",
       "    <tr>\n",
       "      <th>4</th>\n",
       "      <td>Riviera San Nicol 11/a</td>\n",
       "      <td>Hotels</td>\n",
       "      <td>Mableton</td>\n",
       "      <td>US</td>\n",
       "      <td>45.421611</td>\n",
       "      <td>12.376187</td>\n",
       "      <td>Hotel Russo Palace</td>\n",
       "      <td>30126</td>\n",
       "      <td>GA</td>\n",
       "      <td>2015-03-05T00:00:00Z</td>\n",
       "      <td>2016-10-24T00:00:25Z</td>\n",
       "      <td>NaN</td>\n",
       "      <td>NaN</td>\n",
       "      <td>5</td>\n",
       "      <td>We stayed here for four nights in October. The...</td>\n",
       "      <td>������ ���������������</td>\n",
       "      <td>NaN</td>\n",
       "      <td>sungchul</td>\n",
       "      <td>NaN</td>\n",
       "    </tr>\n",
       "  </tbody>\n",
       "</table>\n",
       "</div>"
      ],
      "text/plain": [
       "                  address categories      city country   latitude  longitude  \\\n",
       "0  Riviera San Nicol 11/a     Hotels  Mableton      US  45.421611  12.376187   \n",
       "1  Riviera San Nicol 11/a     Hotels  Mableton      US  45.421611  12.376187   \n",
       "2  Riviera San Nicol 11/a     Hotels  Mableton      US  45.421611  12.376187   \n",
       "3  Riviera San Nicol 11/a     Hotels  Mableton      US  45.421611  12.376187   \n",
       "4  Riviera San Nicol 11/a     Hotels  Mableton      US  45.421611  12.376187   \n",
       "\n",
       "                 name postalCode province          reviews.date  \\\n",
       "0  Hotel Russo Palace      30126       GA  2013-09-22T00:00:00Z   \n",
       "1  Hotel Russo Palace      30126       GA  2015-04-03T00:00:00Z   \n",
       "2  Hotel Russo Palace      30126       GA  2014-05-13T00:00:00Z   \n",
       "3  Hotel Russo Palace      30126       GA  2013-10-27T00:00:00Z   \n",
       "4  Hotel Russo Palace      30126       GA  2015-03-05T00:00:00Z   \n",
       "\n",
       "      reviews.dateAdded  reviews.doRecommend  reviews.id  reviewsrating  \\\n",
       "0  2016-10-24T00:00:25Z                  NaN         NaN              4   \n",
       "1  2016-10-24T00:00:25Z                  NaN         NaN              5   \n",
       "2  2016-10-24T00:00:25Z                  NaN         NaN              5   \n",
       "3  2016-10-24T00:00:25Z                  NaN         NaN              5   \n",
       "4  2016-10-24T00:00:25Z                  NaN         NaN              5   \n",
       "\n",
       "                                         reviewstext  \\\n",
       "0  Pleasant 10 min walk along the sea front to th...   \n",
       "1  Really lovely hotel. Stayed on the very top fl...   \n",
       "2  Ett mycket bra hotell. Det som drog ner betyge...   \n",
       "3  We stayed here for four nights in October. The...   \n",
       "4  We stayed here for four nights in October. The...   \n",
       "\n",
       "                        reviews.title reviews.userCity reviews.username  \\\n",
       "0  Good location away from the crouds              NaN      Russ (kent)   \n",
       "1      Great hotel with Jacuzzi bath!              NaN       A Traveler   \n",
       "2                         Lugnt l��ge              NaN             Maud   \n",
       "3          Good location on the Lido.              NaN            Julie   \n",
       "4              ������ ���������������              NaN         sungchul   \n",
       "\n",
       "  reviews.userProvince  \n",
       "0                  NaN  \n",
       "1                  NaN  \n",
       "2                  NaN  \n",
       "3                  NaN  \n",
       "4                  NaN  "
      ]
     },
     "execution_count": 45,
     "metadata": {},
     "output_type": "execute_result"
    }
   ],
   "source": [
    "# Let us cross check if we have been successful in converting the float to int\n",
    "\n",
    "reviews.head()\n",
    "\n"
   ]
  },
  {
   "cell_type": "code",
   "execution_count": 46,
   "metadata": {
    "collapsed": true
   },
   "outputs": [],
   "source": [
    "# We can see that we have been successful in converting the data type of reviewsrating to int"
   ]
  },
  {
   "cell_type": "code",
   "execution_count": 47,
   "metadata": {
    "collapsed": false
   },
   "outputs": [
    {
     "data": {
      "text/plain": [
       "5    12671\n",
       "4     9880\n",
       "3     5747\n",
       "1     3070\n",
       "2     2988\n",
       "Name: reviewsrating, dtype: int64"
      ]
     },
     "execution_count": 47,
     "metadata": {},
     "output_type": "execute_result"
    }
   ],
   "source": [
    "# Let us look at the value counts of the ratings\n",
    "\n",
    "reviews['reviewsrating'].value_counts()"
   ]
  },
  {
   "cell_type": "code",
   "execution_count": 48,
   "metadata": {
    "collapsed": true
   },
   "outputs": [],
   "source": [
    "# Approximately, 33% of the reviews are 5 star\n",
    "# We can say that we have a 30% chance of getting 5 star reviews"
   ]
  },
  {
   "cell_type": "code",
   "execution_count": 49,
   "metadata": {
    "collapsed": false
   },
   "outputs": [
    {
     "data": {
      "text/plain": [
       "<matplotlib.axes._subplots.AxesSubplot at 0x10b678d0>"
      ]
     },
     "execution_count": 49,
     "metadata": {},
     "output_type": "execute_result"
    },
    {
     "data": {
      "image/png": "[encoded data removed]",
      "text/plain": [
       "<matplotlib.figure.Figure at 0x10b67ef0>"
      ]
     },
     "metadata": {},
     "output_type": "display_data"
    }
   ],
   "source": [
    "# lets plot the same\n",
    "\n",
    "sns.distplot(reviews['reviewsrating'],kde=False)"
   ]
  },
  {
   "cell_type": "code",
   "execution_count": 50,
   "metadata": {
    "collapsed": true
   },
   "outputs": [],
   "source": [
    "# We can see the negavtively skewed distribtion of the ratings"
   ]
  },
  {
   "cell_type": "code",
   "execution_count": 51,
   "metadata": {
    "collapsed": true
   },
   "outputs": [],
   "source": [
    "# Lets us make a new dataframe for the required columns only\n",
    "\n",
    "reviews_n = reviews[['reviewstext','reviewsrating']]"
   ]
  },
  {
   "cell_type": "code",
   "execution_count": 52,
   "metadata": {
    "collapsed": false
   },
   "outputs": [
    {
     "data": {
      "text/html": [
       "<div>\n",
       "<table border=\"1\" class=\"dataframe\">\n",
       "  <thead>\n",
       "    <tr style=\"text-align: right;\">\n",
       "      <th></th>\n",
       "      <th>reviewstext</th>\n",
       "      <th>reviewsrating</th>\n",
       "    </tr>\n",
       "  </thead>\n",
       "  <tbody>\n",
       "    <tr>\n",
       "      <th>0</th>\n",
       "      <td>Pleasant 10 min walk along the sea front to th...</td>\n",
       "      <td>4</td>\n",
       "    </tr>\n",
       "    <tr>\n",
       "      <th>1</th>\n",
       "      <td>Really lovely hotel. Stayed on the very top fl...</td>\n",
       "      <td>5</td>\n",
       "    </tr>\n",
       "    <tr>\n",
       "      <th>2</th>\n",
       "      <td>Ett mycket bra hotell. Det som drog ner betyge...</td>\n",
       "      <td>5</td>\n",
       "    </tr>\n",
       "    <tr>\n",
       "      <th>3</th>\n",
       "      <td>We stayed here for four nights in October. The...</td>\n",
       "      <td>5</td>\n",
       "    </tr>\n",
       "    <tr>\n",
       "      <th>4</th>\n",
       "      <td>We stayed here for four nights in October. The...</td>\n",
       "      <td>5</td>\n",
       "    </tr>\n",
       "  </tbody>\n",
       "</table>\n",
       "</div>"
      ],
      "text/plain": [
       "                                         reviewstext  reviewsrating\n",
       "0  Pleasant 10 min walk along the sea front to th...              4\n",
       "1  Really lovely hotel. Stayed on the very top fl...              5\n",
       "2  Ett mycket bra hotell. Det som drog ner betyge...              5\n",
       "3  We stayed here for four nights in October. The...              5\n",
       "4  We stayed here for four nights in October. The...              5"
      ]
     },
     "execution_count": 52,
     "metadata": {},
     "output_type": "execute_result"
    }
   ],
   "source": [
    "reviews_n.head()"
   ]
  },
  {
   "cell_type": "code",
   "execution_count": 53,
   "metadata": {
    "collapsed": false
   },
   "outputs": [
    {
     "data": {
      "text/plain": [
       "(34356, 2)"
      ]
     },
     "execution_count": 53,
     "metadata": {},
     "output_type": "execute_result"
    }
   ],
   "source": [
    "reviews_n.shape"
   ]
  },
  {
   "cell_type": "code",
   "execution_count": 54,
   "metadata": {
    "collapsed": false
   },
   "outputs": [],
   "source": [
    "# Dropping rows containing na values\n",
    "\n",
    "reviews_n = reviews_n.dropna(axis = 0 ,how = 'any')"
   ]
  },
  {
   "cell_type": "code",
   "execution_count": 55,
   "metadata": {
    "collapsed": false
   },
   "outputs": [
    {
     "data": {
      "text/plain": [
       "(34334, 2)"
      ]
     },
     "execution_count": 55,
     "metadata": {},
     "output_type": "execute_result"
    }
   ],
   "source": [
    "reviews_n.shape"
   ]
  },
  {
   "cell_type": "code",
   "execution_count": 56,
   "metadata": {
    "collapsed": false
   },
   "outputs": [
    {
     "data": {
      "text/plain": [
       "22"
      ]
     },
     "execution_count": 56,
     "metadata": {},
     "output_type": "execute_result"
    }
   ],
   "source": [
    "34356-34334"
   ]
  },
  {
   "cell_type": "code",
   "execution_count": 57,
   "metadata": {
    "collapsed": true
   },
   "outputs": [],
   "source": [
    "# We are dropping only 22 values/rows of the original dataframe, which is of not much significance when you consider the number\n",
    "# rows available for further processing"
   ]
  },
  {
   "cell_type": "markdown",
   "metadata": {},
   "source": [
    "# MODELLING"
   ]
  },
  {
   "cell_type": "code",
   "execution_count": 58,
   "metadata": {
    "collapsed": false
   },
   "outputs": [
    {
     "name": "stdout",
     "output_type": "stream",
     "text": [
      "(34334,)\n",
      "(34334,)\n"
     ]
    }
   ],
   "source": [
    "# We will be applying the machine learning models\n",
    "# Let us define the X and y parameters that we will be feeding to our model\n",
    "\n",
    "X = reviews_n.reviewstext\n",
    "y = reviews_n.reviewsrating\n",
    "print(X.shape)\n",
    "print(y.shape)\n",
    "\n"
   ]
  },
  {
   "cell_type": "code",
   "execution_count": 59,
   "metadata": {
    "collapsed": false
   },
   "outputs": [
    {
     "name": "stdout",
     "output_type": "stream",
     "text": [
      "(25750,)\n",
      "(8584,)\n",
      "(25750,)\n",
      "(8584,)\n"
     ]
    }
   ],
   "source": [
    "# Let us now split the data into train and test sets\n",
    "\n",
    "from sklearn.cross_validation import train_test_split\n",
    "X_train, X_test, y_train, y_test = train_test_split(X,y,random_state = 1)\n",
    "\n",
    "print(X_train.shape)\n",
    "print(X_test.shape)\n",
    "print(y_train.shape)\n",
    "print(y_test.shape)"
   ]
  },
  {
   "cell_type": "markdown",
   "metadata": {},
   "source": [
    "# LET US USE MULTINOMIALNB FIRST"
   ]
  },
  {
   "cell_type": "code",
   "execution_count": 60,
   "metadata": {
    "collapsed": true
   },
   "outputs": [],
   "source": [
    "# Vectorizing our data\n",
    "# Importing the Countvectorizer library\n",
    "\n",
    "from sklearn.feature_extraction.text import CountVectorizer\n"
   ]
  },
  {
   "cell_type": "code",
   "execution_count": 61,
   "metadata": {
    "collapsed": true
   },
   "outputs": [],
   "source": [
    "# Initializing the counvectorizer\n",
    "\n",
    "vect = CountVectorizer()"
   ]
  },
  {
   "cell_type": "code",
   "execution_count": 62,
   "metadata": {
    "collapsed": false
   },
   "outputs": [],
   "source": [
    "# Fit the countvectorizer to the data and transforming the data to document term matrix\n",
    "\n",
    "X_train_dtm = vect.fit_transform(X_train)"
   ]
  },
  {
   "cell_type": "code",
   "execution_count": 63,
   "metadata": {
    "collapsed": false
   },
   "outputs": [
    {
     "data": {
      "text/plain": [
       "['00',\n",
       " '000',\n",
       " '0000',\n",
       " '0002',\n",
       " '00am',\n",
       " '00dcopxqg',\n",
       " '00dollar',\n",
       " '00n',\n",
       " '00p',\n",
       " '00pm',\n",
       " '01',\n",
       " '02',\n",
       " '0200',\n",
       " '03',\n",
       " '0300am',\n",
       " '0330',\n",
       " '03am',\n",
       " '03mbps',\n",
       " '04',\n",
       " '0400',\n",
       " '05',\n",
       " '054',\n",
       " '0555',\n",
       " '05h30',\n",
       " '06',\n",
       " '07',\n",
       " '08',\n",
       " '09',\n",
       " '0900',\n",
       " '0930',\n",
       " '0ne',\n",
       " '10',\n",
       " '100',\n",
       " '1000',\n",
       " '1000am',\n",
       " '10054',\n",
       " '100m',\n",
       " '100mb',\n",
       " '100not',\n",
       " '101',\n",
       " '1015',\n",
       " '101deg',\n",
       " '102',\n",
       " '1020',\n",
       " '103',\n",
       " '1030',\n",
       " '1030am',\n",
       " '104',\n",
       " '1045pm',\n",
       " '105',\n",
       " '106',\n",
       " '107',\n",
       " '108',\n",
       " '109',\n",
       " '10am',\n",
       " '10euros',\n",
       " '10ish',\n",
       " '10k',\n",
       " '10miles',\n",
       " '10min',\n",
       " '10minutes',\n",
       " '10mn',\n",
       " '10p',\n",
       " '10pm',\n",
       " '10th',\n",
       " '11',\n",
       " '110',\n",
       " '111',\n",
       " '112',\n",
       " '113',\n",
       " '1130am',\n",
       " '1130pm',\n",
       " '114was',\n",
       " '115',\n",
       " '116',\n",
       " '1161',\n",
       " '117',\n",
       " '118',\n",
       " '119',\n",
       " '11am',\n",
       " '11amwe',\n",
       " '11h',\n",
       " '11hour',\n",
       " '11ieme',\n",
       " '11ish',\n",
       " '11p',\n",
       " '11pm',\n",
       " '11th',\n",
       " '11v',\n",
       " '11y',\n",
       " '11yo',\n",
       " '12',\n",
       " '120',\n",
       " '1200',\n",
       " '1200pm',\n",
       " '120v',\n",
       " '121',\n",
       " '1216',\n",
       " '122',\n",
       " '123',\n",
       " '124',\n",
       " '125',\n",
       " '126',\n",
       " '127',\n",
       " '1278',\n",
       " '128',\n",
       " '129',\n",
       " '12am',\n",
       " '12h',\n",
       " '12hrs',\n",
       " '12kbps',\n",
       " '12m',\n",
       " '12nights',\n",
       " '12noon',\n",
       " '12pm',\n",
       " '12th',\n",
       " '12x16',\n",
       " '13',\n",
       " '130',\n",
       " '1300',\n",
       " '131',\n",
       " '132',\n",
       " '133',\n",
       " '134',\n",
       " '135',\n",
       " '136',\n",
       " '13651',\n",
       " '137',\n",
       " '138',\n",
       " '139',\n",
       " '13a',\n",
       " '13h',\n",
       " '13th',\n",
       " '14',\n",
       " '140',\n",
       " '1400',\n",
       " '1401',\n",
       " '1422',\n",
       " '143',\n",
       " '145',\n",
       " '146',\n",
       " '148',\n",
       " '149',\n",
       " '14th',\n",
       " '15',\n",
       " '150',\n",
       " '1500',\n",
       " '150e',\n",
       " '151',\n",
       " '152',\n",
       " '1522',\n",
       " '155',\n",
       " '158',\n",
       " '159',\n",
       " '15am',\n",
       " '15dollar',\n",
       " '15e',\n",
       " '15min',\n",
       " '15mins',\n",
       " '15minutes',\n",
       " '15p',\n",
       " '15pm',\n",
       " '15th',\n",
       " '16',\n",
       " '160',\n",
       " '1600',\n",
       " '1604',\n",
       " '1622',\n",
       " '165',\n",
       " '166',\n",
       " '167',\n",
       " '169',\n",
       " '16ft',\n",
       " '16h',\n",
       " '16th',\n",
       " '16x',\n",
       " '17',\n",
       " '170',\n",
       " '1700',\n",
       " '1700s',\n",
       " '172',\n",
       " '1730',\n",
       " '175',\n",
       " '177',\n",
       " '1770',\n",
       " '1785',\n",
       " '179',\n",
       " '17h',\n",
       " '17most',\n",
       " '17th',\n",
       " '18',\n",
       " '180',\n",
       " '1800',\n",
       " '1800s',\n",
       " '1808',\n",
       " '181',\n",
       " '1812',\n",
       " '182',\n",
       " '1822',\n",
       " '183',\n",
       " '1830',\n",
       " '1840',\n",
       " '185',\n",
       " '188',\n",
       " '1880',\n",
       " '1887',\n",
       " '189',\n",
       " '1893',\n",
       " '18ft',\n",
       " '18mo',\n",
       " '18th',\n",
       " '19',\n",
       " '190',\n",
       " '1900',\n",
       " '1900s',\n",
       " '1906',\n",
       " '1909',\n",
       " '1920',\n",
       " '1920s',\n",
       " '1926',\n",
       " '1928',\n",
       " '1930',\n",
       " '1930s',\n",
       " '1931',\n",
       " '1939',\n",
       " '194',\n",
       " '1940',\n",
       " '1940s',\n",
       " '1946',\n",
       " '195',\n",
       " '1950',\n",
       " '1952',\n",
       " '1954',\n",
       " '1955',\n",
       " '1960',\n",
       " '1960ish',\n",
       " '1960s',\n",
       " '1968',\n",
       " '197',\n",
       " '1970',\n",
       " '1970s',\n",
       " '1972',\n",
       " '1973',\n",
       " '1974',\n",
       " '1979',\n",
       " '1980',\n",
       " '1980s',\n",
       " '1981',\n",
       " '1984',\n",
       " '1988',\n",
       " '199',\n",
       " '1990',\n",
       " '1990s',\n",
       " '1993',\n",
       " '1995',\n",
       " '1996',\n",
       " '1999',\n",
       " '19th',\n",
       " '19x3',\n",
       " '1am',\n",
       " '1bed',\n",
       " '1bedrooms',\n",
       " '1day',\n",
       " '1e',\n",
       " '1er',\n",
       " '1era',\n",
       " '1floor',\n",
       " '1h',\n",
       " '1h00',\n",
       " '1h30',\n",
       " '1hr',\n",
       " '1km',\n",
       " '1mb',\n",
       " '1mbps',\n",
       " '1n',\n",
       " '1night',\n",
       " '1of',\n",
       " '1p',\n",
       " '1pm',\n",
       " '1re',\n",
       " '1set',\n",
       " '1st',\n",
       " '1to',\n",
       " '1x',\n",
       " '20',\n",
       " '200',\n",
       " '2000',\n",
       " '2001',\n",
       " '20010',\n",
       " '2002',\n",
       " '2003',\n",
       " '2004',\n",
       " '2006',\n",
       " '2007',\n",
       " '2008',\n",
       " '2009',\n",
       " '201',\n",
       " '2010',\n",
       " '2011',\n",
       " '2012',\n",
       " '2013',\n",
       " '2014',\n",
       " '2015',\n",
       " '2015and',\n",
       " '2016',\n",
       " '2017',\n",
       " '2019',\n",
       " '202',\n",
       " '203',\n",
       " '204',\n",
       " '205',\n",
       " '206',\n",
       " '209',\n",
       " '20am',\n",
       " '20e',\n",
       " '20kg',\n",
       " '20lbs',\n",
       " '20m',\n",
       " '20min',\n",
       " '20mins',\n",
       " '20minutes',\n",
       " '20mn',\n",
       " '20pm',\n",
       " '20s',\n",
       " '20th',\n",
       " '20분',\n",
       " '21',\n",
       " '210',\n",
       " '211',\n",
       " '212',\n",
       " '213',\n",
       " '214',\n",
       " '215',\n",
       " '216',\n",
       " '217',\n",
       " '218',\n",
       " '219',\n",
       " '21st',\n",
       " '22',\n",
       " '220',\n",
       " '221',\n",
       " '222',\n",
       " '223',\n",
       " '224',\n",
       " '225',\n",
       " '227',\n",
       " '228',\n",
       " '229',\n",
       " '22hrs',\n",
       " '22nd',\n",
       " '23',\n",
       " '2300hrs',\n",
       " '230pm',\n",
       " '233',\n",
       " '2345',\n",
       " '235',\n",
       " '236',\n",
       " '237',\n",
       " '238',\n",
       " '23fx',\n",
       " '23rd',\n",
       " '24',\n",
       " '240',\n",
       " '240lbs',\n",
       " '241',\n",
       " '242',\n",
       " '243',\n",
       " '249',\n",
       " '24h',\n",
       " '24hours',\n",
       " '24hoursofbooty',\n",
       " '24hr',\n",
       " '24hrs',\n",
       " '24mb',\n",
       " '24th',\n",
       " '25',\n",
       " '250',\n",
       " '250e',\n",
       " '253',\n",
       " '256',\n",
       " '25has',\n",
       " '25min',\n",
       " '25mph',\n",
       " '25th',\n",
       " '26',\n",
       " '260',\n",
       " '2600',\n",
       " '268',\n",
       " '26th',\n",
       " '27',\n",
       " '270',\n",
       " '274',\n",
       " '278',\n",
       " '279',\n",
       " '27th',\n",
       " '28',\n",
       " '280',\n",
       " '289',\n",
       " '28th',\n",
       " '29',\n",
       " '290',\n",
       " '2900',\n",
       " '295',\n",
       " '29euros',\n",
       " '29th',\n",
       " '2am',\n",
       " '2ba',\n",
       " '2bdrm',\n",
       " '2br',\n",
       " '2days',\n",
       " '2h00',\n",
       " '2h30',\n",
       " '2km',\n",
       " '2mal',\n",
       " '2mi',\n",
       " '2min',\n",
       " '2nd',\n",
       " '2of',\n",
       " '2p',\n",
       " '2pm',\n",
       " '2pmvery',\n",
       " '2x',\n",
       " '2x3ft',\n",
       " '2x4',\n",
       " '30',\n",
       " '300',\n",
       " '3001',\n",
       " '3003',\n",
       " '301',\n",
       " '303',\n",
       " '305',\n",
       " '306',\n",
       " '3072',\n",
       " '308',\n",
       " '309',\n",
       " '30a',\n",
       " '30am',\n",
       " '30c',\n",
       " '30miles',\n",
       " '30min',\n",
       " '30mins',\n",
       " '30p',\n",
       " '30pm',\n",
       " '30th',\n",
       " '31',\n",
       " '3102',\n",
       " '311but',\n",
       " '312',\n",
       " '313',\n",
       " '314',\n",
       " '315pn',\n",
       " '317',\n",
       " '31st',\n",
       " '32',\n",
       " '320',\n",
       " '322',\n",
       " '325',\n",
       " '328',\n",
       " '329',\n",
       " '33',\n",
       " '330am',\n",
       " '333',\n",
       " '334740612',\n",
       " '335',\n",
       " '34',\n",
       " '347',\n",
       " '35',\n",
       " '350',\n",
       " '356514',\n",
       " '35th',\n",
       " '36',\n",
       " '360',\n",
       " '37',\n",
       " '370',\n",
       " '372',\n",
       " '375',\n",
       " '38',\n",
       " '380',\n",
       " '385',\n",
       " '39',\n",
       " '3am',\n",
       " '3ft',\n",
       " '3hrs',\n",
       " '3mornings',\n",
       " '3nights',\n",
       " '3nuits',\n",
       " '3ounces',\n",
       " '3pm',\n",
       " '3rd',\n",
       " '3times',\n",
       " '3uger',\n",
       " '3x',\n",
       " '3x3',\n",
       " '3yr',\n",
       " '40',\n",
       " '400',\n",
       " '405',\n",
       " '406',\n",
       " '407',\n",
       " '408',\n",
       " '40b',\n",
       " '40km',\n",
       " '40min',\n",
       " '40s',\n",
       " '40th',\n",
       " '40w',\n",
       " '410',\n",
       " '412',\n",
       " '416',\n",
       " '417',\n",
       " '418',\n",
       " '42',\n",
       " '421',\n",
       " '4219',\n",
       " '42397',\n",
       " '424',\n",
       " '428',\n",
       " '42inch',\n",
       " '43',\n",
       " '430',\n",
       " '434',\n",
       " '43un6f',\n",
       " '43uz9o',\n",
       " '44',\n",
       " '444',\n",
       " '445',\n",
       " '4480',\n",
       " '44euros',\n",
       " '45',\n",
       " '450',\n",
       " '45a',\n",
       " '45am',\n",
       " '45min',\n",
       " '45mins',\n",
       " '45pm',\n",
       " '45th',\n",
       " '46',\n",
       " '460',\n",
       " '465',\n",
       " '46th',\n",
       " '47',\n",
       " '475',\n",
       " '47th',\n",
       " '48',\n",
       " '48th',\n",
       " '48the',\n",
       " '49',\n",
       " '495',\n",
       " '497',\n",
       " '49ers',\n",
       " '49th',\n",
       " '4am',\n",
       " '4b',\n",
       " '4c',\n",
       " '4g',\n",
       " '4h',\n",
       " '4hrs',\n",
       " '4insted',\n",
       " '4jahreszeiten',\n",
       " '4me',\n",
       " '4month',\n",
       " '4pm',\n",
       " '4sqwifi',\n",
       " '4th',\n",
       " '4the',\n",
       " '4u',\n",
       " '4yr',\n",
       " '50',\n",
       " '500',\n",
       " '5000',\n",
       " '5001a19grvb',\n",
       " '500th',\n",
       " '505',\n",
       " '506',\n",
       " '50am',\n",
       " '50euro',\n",
       " '50ft',\n",
       " '50k',\n",
       " '50m',\n",
       " '50pm',\n",
       " '50s',\n",
       " '50th',\n",
       " '51',\n",
       " '516',\n",
       " '52',\n",
       " '524',\n",
       " '526',\n",
       " '527',\n",
       " '53',\n",
       " '54',\n",
       " '540',\n",
       " '545',\n",
       " '55',\n",
       " '550',\n",
       " '55am',\n",
       " '55th',\n",
       " '55tl',\n",
       " '56',\n",
       " '56k',\n",
       " '57',\n",
       " '58',\n",
       " '580',\n",
       " '59',\n",
       " '595',\n",
       " '598',\n",
       " '5am',\n",
       " '5c',\n",
       " '5h',\n",
       " '5hr',\n",
       " '5k',\n",
       " '5me',\n",
       " '5miles',\n",
       " '5min',\n",
       " '5minutes',\n",
       " '5p',\n",
       " '5person',\n",
       " '5pm',\n",
       " '5rating',\n",
       " '5star',\n",
       " '5stars',\n",
       " '5stjrnigt',\n",
       " '5th',\n",
       " '60',\n",
       " '600',\n",
       " '6000',\n",
       " '604',\n",
       " '606',\n",
       " '60s',\n",
       " '60th',\n",
       " '62',\n",
       " '63',\n",
       " '630',\n",
       " '64',\n",
       " '645',\n",
       " '65',\n",
       " '651',\n",
       " '657',\n",
       " '65p',\n",
       " '66',\n",
       " '664',\n",
       " '66th',\n",
       " '68',\n",
       " '6860',\n",
       " '69',\n",
       " '6a',\n",
       " '6am',\n",
       " '6ft',\n",
       " '6g9cff',\n",
       " '6h',\n",
       " '6l',\n",
       " '6oz',\n",
       " '6p',\n",
       " '6pm',\n",
       " '6th',\n",
       " '6x',\n",
       " '6yr',\n",
       " '70',\n",
       " '700',\n",
       " '70000',\n",
       " '701',\n",
       " '702',\n",
       " '703',\n",
       " '704',\n",
       " '705',\n",
       " '707',\n",
       " '70s',\n",
       " '70th',\n",
       " '71',\n",
       " '72',\n",
       " '722',\n",
       " '727',\n",
       " '727taxi',\n",
       " '73',\n",
       " '730',\n",
       " '733',\n",
       " '74',\n",
       " '747',\n",
       " '75',\n",
       " '750',\n",
       " '75day',\n",
       " '75th',\n",
       " '75yr',\n",
       " '76',\n",
       " '77',\n",
       " '78',\n",
       " '79',\n",
       " '7am',\n",
       " '7days',\n",
       " '7eleven',\n",
       " '7ft',\n",
       " '7mgps',\n",
       " '7p',\n",
       " '7pm',\n",
       " '7th',\n",
       " '7with',\n",
       " '7yo',\n",
       " '80',\n",
       " '800',\n",
       " '8000',\n",
       " '800am',\n",
       " '801',\n",
       " '805',\n",
       " '80813',\n",
       " '80s',\n",
       " '80th',\n",
       " '81',\n",
       " '82',\n",
       " '8294',\n",
       " '83',\n",
       " '830',\n",
       " '83rd',\n",
       " '84',\n",
       " '847',\n",
       " '85',\n",
       " '8500',\n",
       " '85306',\n",
       " '85th',\n",
       " '87',\n",
       " '88',\n",
       " '89',\n",
       " '8am',\n",
       " '8ish',\n",
       " '8mbps',\n",
       " '8miles',\n",
       " '8min',\n",
       " '8pm',\n",
       " '8s',\n",
       " '8th',\n",
       " '8vo',\n",
       " '90',\n",
       " '900',\n",
       " '90cents',\n",
       " '90s',\n",
       " '90th',\n",
       " '91',\n",
       " '915',\n",
       " '917',\n",
       " '92',\n",
       " '920',\n",
       " '93',\n",
       " '94',\n",
       " '95',\n",
       " '95f',\n",
       " '96',\n",
       " '97',\n",
       " '98',\n",
       " '99',\n",
       " '9am',\n",
       " '9ne',\n",
       " '9p',\n",
       " '9pm',\n",
       " '9th',\n",
       " '_at',\n",
       " 'a1',\n",
       " 'a10',\n",
       " 'a25',\n",
       " 'a44',\n",
       " 'a5',\n",
       " 'a7',\n",
       " 'aa',\n",
       " 'aaa',\n",
       " 'aaaahh',\n",
       " 'aadido',\n",
       " 'aafter',\n",
       " 'aamiainen',\n",
       " 'aamiaisen',\n",
       " 'aamiaista',\n",
       " 'aamuksi',\n",
       " 'aamulla',\n",
       " 'aamupala',\n",
       " 'aan',\n",
       " 'aandacht',\n",
       " 'aangebroken',\n",
       " 'aanrader',\n",
       " 'aanwinst',\n",
       " 'aarp',\n",
       " 'ab',\n",
       " 'aback',\n",
       " 'abandon',\n",
       " 'abandonado',\n",
       " 'abandoned',\n",
       " 'abbastanza',\n",
       " 'abbey',\n",
       " 'abbiamo',\n",
       " 'abbondante',\n",
       " 'abc',\n",
       " 'abd',\n",
       " 'abendbuffet',\n",
       " 'abendessen',\n",
       " 'abends',\n",
       " 'abenteuer',\n",
       " 'aber',\n",
       " 'aberdeen',\n",
       " 'abfallprodukte',\n",
       " 'abgebaut',\n",
       " 'abgenutzt',\n",
       " 'abgeschirmt',\n",
       " 'abgestorbene',\n",
       " 'abgewohnt',\n",
       " 'abgewohntes',\n",
       " 'abhngig',\n",
       " 'abia',\n",
       " 'abides',\n",
       " 'abiertos',\n",
       " 'abilene',\n",
       " 'abilities',\n",
       " 'ability',\n",
       " 'abit',\n",
       " 'abita',\n",
       " 'abitacion',\n",
       " 'abiver',\n",
       " 'able',\n",
       " 'abluftrohr',\n",
       " 'abmi',\n",
       " 'aboard',\n",
       " 'abode',\n",
       " 'abordable',\n",
       " 'abound',\n",
       " 'abounds',\n",
       " 'about',\n",
       " 'about_thunderbird',\n",
       " 'above',\n",
       " 'abrasive',\n",
       " 'abroad',\n",
       " 'abrumen',\n",
       " 'abrupt',\n",
       " 'abruptly',\n",
       " 'abseits',\n",
       " 'absence',\n",
       " 'absent',\n",
       " 'absolument',\n",
       " 'absolumment',\n",
       " 'absolut',\n",
       " 'absolute',\n",
       " 'absolutely',\n",
       " 'absolutes',\n",
       " 'absolutley',\n",
       " 'absolutly',\n",
       " 'absorb',\n",
       " 'absorbed',\n",
       " 'absorbent',\n",
       " 'abstenu',\n",
       " 'abstrich',\n",
       " 'absurd',\n",
       " 'absurdly',\n",
       " 'abt',\n",
       " 'abundance',\n",
       " 'abundant',\n",
       " 'aburrido',\n",
       " 'abuse',\n",
       " 'abuser',\n",
       " 'abusifs',\n",
       " 'abut',\n",
       " 'abuts',\n",
       " 'abv',\n",
       " 'abwechslung',\n",
       " 'abysmal',\n",
       " 'abysmally',\n",
       " 'abzug',\n",
       " 'ac',\n",
       " 'acabo',\n",
       " 'acabou',\n",
       " 'academia',\n",
       " 'academy',\n",
       " 'acadia',\n",
       " 'acapulco',\n",
       " 'accademia',\n",
       " 'accder',\n",
       " 'accecptable',\n",
       " 'acceder',\n",
       " 'accelerated',\n",
       " 'accent',\n",
       " 'accented',\n",
       " 'accents',\n",
       " 'accept',\n",
       " 'acceptable',\n",
       " 'acceptably',\n",
       " 'accepted',\n",
       " 'accepting',\n",
       " 'accepts',\n",
       " 'accesible',\n",
       " 'acceso',\n",
       " 'accesories',\n",
       " 'access',\n",
       " 'accessed',\n",
       " 'accessibility',\n",
       " 'accessible',\n",
       " 'accessibles',\n",
       " 'accessing',\n",
       " 'accessoires',\n",
       " 'accessories',\n",
       " 'accessorized',\n",
       " 'acceuil',\n",
       " 'accident',\n",
       " 'accidental',\n",
       " 'accidentally',\n",
       " 'accidently',\n",
       " 'accidents',\n",
       " 'acclaimed',\n",
       " 'acclimated',\n",
       " 'accogliente',\n",
       " 'accoglienti',\n",
       " 'accoglienza',\n",
       " 'accom',\n",
       " 'accomadate',\n",
       " 'accomadated',\n",
       " 'accomadating',\n",
       " 'accomadations',\n",
       " 'accomdated',\n",
       " 'accomdating',\n",
       " 'accomedated',\n",
       " 'accomedating',\n",
       " 'accomendations',\n",
       " 'accomi',\n",
       " 'accomidate',\n",
       " 'accomidating',\n",
       " 'accommodate',\n",
       " 'accommodated',\n",
       " 'accommodatig',\n",
       " 'accommodating',\n",
       " 'accommodation',\n",
       " 'accommodations',\n",
       " 'accomodate',\n",
       " 'accomodated',\n",
       " 'accomodating',\n",
       " 'accomodation',\n",
       " 'accomodations',\n",
       " 'accompagn',\n",
       " 'accompanied',\n",
       " 'accompany',\n",
       " 'accompanying',\n",
       " 'accompdating',\n",
       " 'accomplish',\n",
       " 'accomplished',\n",
       " 'accomplishment',\n",
       " 'accor',\n",
       " 'accord',\n",
       " 'accorded',\n",
       " 'according',\n",
       " 'accordingly',\n",
       " 'accosted',\n",
       " 'account',\n",
       " 'accountable',\n",
       " 'accountant',\n",
       " 'accounting',\n",
       " 'accounts',\n",
       " 'accoutrements',\n",
       " 'accpmidations',\n",
       " 'accross',\n",
       " 'accroutrements',\n",
       " 'accrued',\n",
       " 'accs',\n",
       " 'accueil',\n",
       " 'accueilants',\n",
       " 'accueillant',\n",
       " 'accueilli',\n",
       " 'accumulated',\n",
       " 'accumulates',\n",
       " 'accumulating',\n",
       " 'accuracy',\n",
       " 'accurate',\n",
       " 'accurately',\n",
       " 'accusation',\n",
       " 'accused',\n",
       " 'accusing',\n",
       " 'accustom',\n",
       " 'accustomed',\n",
       " 'acdc',\n",
       " 'acenderem',\n",
       " 'aces',\n",
       " 'acess',\n",
       " 'acesso',\n",
       " 'acessvel',\n",
       " 'ach',\n",
       " 'achalands',\n",
       " 'achamos',\n",
       " 'ache',\n",
       " 'achei',\n",
       " 'aches',\n",
       " 'achieve',\n",
       " 'achieves',\n",
       " 'aching',\n",
       " 'acho',\n",
       " 'achten',\n",
       " 'acid',\n",
       " 'acidity',\n",
       " 'acima',\n",
       " 'acknowledge',\n",
       " 'acknowledged',\n",
       " 'acogedor',\n",
       " 'acogedora',\n",
       " 'acolhedor',\n",
       " 'acolhida',\n",
       " 'acomadating',\n",
       " 'acomadation',\n",
       " 'acomadations',\n",
       " 'acommodating',\n",
       " 'acomoda',\n",
       " 'acomodaes',\n",
       " 'acomodar',\n",
       " ...]"
      ]
     },
     "execution_count": 63,
     "metadata": {},
     "output_type": "execute_result"
    }
   ],
   "source": [
    "vect.get_feature_names()"
   ]
  },
  {
   "cell_type": "code",
   "execution_count": 64,
   "metadata": {
    "collapsed": false
   },
   "outputs": [
    {
     "data": {
      "text/plain": [
       "<25750x27343 sparse matrix of type '<class 'numpy.int64'>'\n",
       "\twith 892572 stored elements in Compressed Sparse Row format>"
      ]
     },
     "execution_count": 64,
     "metadata": {},
     "output_type": "execute_result"
    }
   ],
   "source": [
    "X_train_dtm"
   ]
  },
  {
   "cell_type": "code",
   "execution_count": 65,
   "metadata": {
    "collapsed": true
   },
   "outputs": [],
   "source": [
    "# We can see that we have 27343 features"
   ]
  },
  {
   "cell_type": "code",
   "execution_count": 66,
   "metadata": {
    "collapsed": false
   },
   "outputs": [
    {
     "data": {
      "text/plain": [
       "<8584x27343 sparse matrix of type '<class 'numpy.int64'>'\n",
       "\twith 294650 stored elements in Compressed Sparse Row format>"
      ]
     },
     "execution_count": 66,
     "metadata": {},
     "output_type": "execute_result"
    }
   ],
   "source": [
    "# Let us now transform the test data into document term matrix\n",
    "\n",
    "\n",
    "X_test_dtm = vect.transform(X_test)\n",
    "X_test_dtm\n",
    "\n"
   ]
  },
  {
   "cell_type": "code",
   "execution_count": 67,
   "metadata": {
    "collapsed": true
   },
   "outputs": [],
   "source": [
    "# Let us evaluate the model using MultinomialNB\n",
    "\n",
    "from sklearn.naive_bayes import MultinomialNB"
   ]
  },
  {
   "cell_type": "code",
   "execution_count": 68,
   "metadata": {
    "collapsed": true
   },
   "outputs": [],
   "source": [
    "nb = MultinomialNB()"
   ]
  },
  {
   "cell_type": "code",
   "execution_count": 69,
   "metadata": {
    "collapsed": false
   },
   "outputs": [
    {
     "data": {
      "text/plain": [
       "MultinomialNB(alpha=1.0, class_prior=None, fit_prior=True)"
      ]
     },
     "execution_count": 69,
     "metadata": {},
     "output_type": "execute_result"
    }
   ],
   "source": [
    "# Let us train the model using MultinomialNB\n",
    "\n",
    "nb.fit(X_train_dtm,y_train)"
   ]
  },
  {
   "cell_type": "code",
   "execution_count": 70,
   "metadata": {
    "collapsed": true
   },
   "outputs": [],
   "source": [
    "# Let us make the predictions for the test data\n",
    "\n",
    "y_pred_class = nb.predict(X_test_dtm)"
   ]
  },
  {
   "cell_type": "code",
   "execution_count": 71,
   "metadata": {
    "collapsed": false
   },
   "outputs": [
    {
     "data": {
      "text/plain": [
       "0.5246971109040075"
      ]
     },
     "execution_count": 71,
     "metadata": {},
     "output_type": "execute_result"
    }
   ],
   "source": [
    "# Let us see the accuracy of the model\n",
    "from sklearn import metrics\n",
    "\n",
    "metrics.accuracy_score(y_test,y_pred_class)\n"
   ]
  },
  {
   "cell_type": "code",
   "execution_count": 72,
   "metadata": {
    "collapsed": true
   },
   "outputs": [],
   "source": [
    "# We are getting an accuracy of 52.4%"
   ]
  },
  {
   "cell_type": "code",
   "execution_count": 73,
   "metadata": {
    "collapsed": false
   },
   "outputs": [
    {
     "data": {
      "text/plain": [
       "array([[ 491,   76,  111,   37,   67],\n",
       "       [ 209,  113,  263,   96,   61],\n",
       "       [ 109,   80,  466,  495,  240],\n",
       "       [  91,   43,  295,  991, 1064],\n",
       "       [  54,   13,  141,  535, 2443]])"
      ]
     },
     "execution_count": 73,
     "metadata": {},
     "output_type": "execute_result"
    }
   ],
   "source": [
    "# Print the confusion matrix:\n",
    "\n",
    "metrics.confusion_matrix(y_test,y_pred_class)\n",
    "\n"
   ]
  },
  {
   "cell_type": "code",
   "execution_count": 74,
   "metadata": {
    "collapsed": true
   },
   "outputs": [],
   "source": [
    "# We have used NaiveBayes to build our model\n",
    "\n",
    "# Let us now try and use Support Vector machines to check if we can improve the accuracy\n"
   ]
  },
  {
   "cell_type": "markdown",
   "metadata": {},
   "source": [
    "# WE HAVE USED COUNTVECTORIZER, LET US  USE TFIDFVECTORIZER"
   ]
  },
  {
   "cell_type": "code",
   "execution_count": 134,
   "metadata": {
    "collapsed": true
   },
   "outputs": [],
   "source": [
    "vector4 = TfidfVectorizer()"
   ]
  },
  {
   "cell_type": "code",
   "execution_count": 135,
   "metadata": {
    "collapsed": true
   },
   "outputs": [],
   "source": [
    "X_train2_dtm = vector4.fit_transform(X_train)"
   ]
  },
  {
   "cell_type": "code",
   "execution_count": 136,
   "metadata": {
    "collapsed": false
   },
   "outputs": [
    {
     "data": {
      "text/plain": [
       "<25750x27343 sparse matrix of type '<class 'numpy.float64'>'\n",
       "\twith 892572 stored elements in Compressed Sparse Row format>"
      ]
     },
     "execution_count": 136,
     "metadata": {},
     "output_type": "execute_result"
    }
   ],
   "source": [
    "X_train2_dtm"
   ]
  },
  {
   "cell_type": "code",
   "execution_count": 137,
   "metadata": {
    "collapsed": true
   },
   "outputs": [],
   "source": [
    "X_test2_dtm = vector4.transform(X_test)"
   ]
  },
  {
   "cell_type": "code",
   "execution_count": 138,
   "metadata": {
    "collapsed": false
   },
   "outputs": [
    {
     "data": {
      "text/plain": [
       "MultinomialNB(alpha=1.0, class_prior=None, fit_prior=True)"
      ]
     },
     "execution_count": 138,
     "metadata": {},
     "output_type": "execute_result"
    }
   ],
   "source": [
    "nb.fit(X_train2_dtm,y_train)"
   ]
  },
  {
   "cell_type": "code",
   "execution_count": 139,
   "metadata": {
    "collapsed": true
   },
   "outputs": [],
   "source": [
    "y_pred_class_nb_tfidf = nb.predict(X_test2_dtm)"
   ]
  },
  {
   "cell_type": "code",
   "execution_count": 140,
   "metadata": {
    "collapsed": false
   },
   "outputs": [
    {
     "data": {
      "text/plain": [
       "0.43569431500465983"
      ]
     },
     "execution_count": 140,
     "metadata": {},
     "output_type": "execute_result"
    }
   ],
   "source": [
    "\n",
    "#from sklearn import metrics\n",
    "\n",
    "metrics.accuracy_score(y_test,y_pred_class_nb_tfidf)"
   ]
  },
  {
   "cell_type": "code",
   "execution_count": null,
   "metadata": {
    "collapsed": true
   },
   "outputs": [],
   "source": [
    "# Inspite of using tf-idf vectorizer, we are getting a prediction accuracy of 43.56"
   ]
  },
  {
   "cell_type": "code",
   "execution_count": 141,
   "metadata": {
    "collapsed": false
   },
   "outputs": [
    {
     "data": {
      "text/plain": [
       "array([[  66,    0,  112,  279,  325],\n",
       "       [  11,    0,  101,  402,  228],\n",
       "       [   5,    0,   76,  713,  596],\n",
       "       [   3,    1,   39,  721, 1720],\n",
       "       [   0,    1,   18,  290, 2877]])"
      ]
     },
     "execution_count": 141,
     "metadata": {},
     "output_type": "execute_result"
    }
   ],
   "source": [
    "# Print the confusion matrix:\n",
    "\n",
    "metrics.confusion_matrix(y_test,y_pred_class_nb_tfidf)"
   ]
  },
  {
   "cell_type": "markdown",
   "metadata": {},
   "source": [
    "# LET US TRY USING SVM"
   ]
  },
  {
   "cell_type": "code",
   "execution_count": 75,
   "metadata": {
    "collapsed": false
   },
   "outputs": [],
   "source": [
    "#from sklearn.svm import SVC\n",
    "\n",
    "#svclf = SVC()"
   ]
  },
  {
   "cell_type": "code",
   "execution_count": 76,
   "metadata": {
    "collapsed": false
   },
   "outputs": [],
   "source": [
    "#svclf.fit(X_train_dtm,y_train)"
   ]
  },
  {
   "cell_type": "code",
   "execution_count": 77,
   "metadata": {
    "collapsed": true
   },
   "outputs": [],
   "source": [
    "\n",
    "# Let us make the predictions for the test data\n",
    "\n",
    "#y_pred_class_svc = svclf.predict(X_test_dtm)"
   ]
  },
  {
   "cell_type": "code",
   "execution_count": 78,
   "metadata": {
    "collapsed": false
   },
   "outputs": [],
   "source": [
    "# Let us see the accuracy of the model\n",
    "#from sklearn import metrics\n",
    "\n",
    "#metrics.accuracy_score(y_test,y_pred_class_svc)\n"
   ]
  },
  {
   "cell_type": "code",
   "execution_count": 79,
   "metadata": {
    "collapsed": true
   },
   "outputs": [],
   "source": [
    "# By using SVC we can see that the prediction accuracy has dropped drastically from 52% to 37%"
   ]
  },
  {
   "cell_type": "markdown",
   "metadata": {},
   "source": [
    "# LET US TRY USING LINEARSVC"
   ]
  },
  {
   "cell_type": "code",
   "execution_count": 80,
   "metadata": {
    "collapsed": true
   },
   "outputs": [],
   "source": [
    "# We saw that using SVM the accuracy dropped drastically\n",
    "# Let us try using linear SVC\n",
    "\n",
    "from sklearn.svm import LinearSVC\n"
   ]
  },
  {
   "cell_type": "code",
   "execution_count": 81,
   "metadata": {
    "collapsed": false
   },
   "outputs": [
    {
     "data": {
      "text/plain": [
       "LinearSVC(C=1.0, class_weight=None, dual=True, fit_intercept=True,\n",
       "     intercept_scaling=1, loss='squared_hinge', max_iter=1000,\n",
       "     multi_class='ovr', penalty='l2', random_state=None, tol=0.0001,\n",
       "     verbose=0)"
      ]
     },
     "execution_count": 81,
     "metadata": {},
     "output_type": "execute_result"
    }
   ],
   "source": [
    "linclf = LinearSVC()\n",
    "\n",
    "linclf.fit(X_train_dtm,y_train)"
   ]
  },
  {
   "cell_type": "code",
   "execution_count": 82,
   "metadata": {
    "collapsed": false
   },
   "outputs": [],
   "source": [
    "y_pred_class_linsvc = linclf.predict(X_test_dtm)"
   ]
  },
  {
   "cell_type": "code",
   "execution_count": 83,
   "metadata": {
    "collapsed": false
   },
   "outputs": [
    {
     "data": {
      "text/plain": [
       "0.48532152842497672"
      ]
     },
     "execution_count": 83,
     "metadata": {},
     "output_type": "execute_result"
    }
   ],
   "source": [
    "# Checking the accuracy of the model\n",
    "\n",
    "metrics.accuracy_score(y_test,y_pred_class_linsvc)"
   ]
  },
  {
   "cell_type": "code",
   "execution_count": 84,
   "metadata": {
    "collapsed": false
   },
   "outputs": [
    {
     "data": {
      "text/plain": [
       "array([[ 379,  133,  127,   74,   69],\n",
       "       [ 162,  192,  199,  127,   62],\n",
       "       [  89,  161,  441,  431,  268],\n",
       "       [  65,  106,  338,  967, 1008],\n",
       "       [  63,   55,  154,  727, 2187]])"
      ]
     },
     "execution_count": 84,
     "metadata": {},
     "output_type": "execute_result"
    }
   ],
   "source": [
    "# Print the confusion matrix:\n",
    "\n",
    "metrics.confusion_matrix(y_test,y_pred_class_linsvc)\n",
    "\n"
   ]
  },
  {
   "cell_type": "markdown",
   "metadata": {},
   "source": [
    "# MULTINOMIAL NB, STOPWORDS REMOVAL,CONSIDERING N-GRAMS"
   ]
  },
  {
   "cell_type": "code",
   "execution_count": 85,
   "metadata": {
    "collapsed": true
   },
   "outputs": [],
   "source": [
    "# Let us try removing the stopwords and see if it makes any difference,also let use ngrams \n",
    "\n",
    "vect1 = CountVectorizer(stop_words='english',ngram_range=(1,2))"
   ]
  },
  {
   "cell_type": "code",
   "execution_count": 86,
   "metadata": {
    "collapsed": true
   },
   "outputs": [],
   "source": [
    "X_train1_dtm = vect1.fit_transform(X_train)"
   ]
  },
  {
   "cell_type": "code",
   "execution_count": 87,
   "metadata": {
    "collapsed": false
   },
   "outputs": [
    {
     "data": {
      "text/plain": [
       "<25750x310830 sparse matrix of type '<class 'numpy.int64'>'\n",
       "\twith 1058784 stored elements in Compressed Sparse Row format>"
      ]
     },
     "execution_count": 87,
     "metadata": {},
     "output_type": "execute_result"
    }
   ],
   "source": [
    "X_train1_dtm"
   ]
  },
  {
   "cell_type": "code",
   "execution_count": 88,
   "metadata": {
    "collapsed": false
   },
   "outputs": [
    {
     "data": {
      "text/plain": [
       "<8584x310830 sparse matrix of type '<class 'numpy.int64'>'\n",
       "\twith 275820 stored elements in Compressed Sparse Row format>"
      ]
     },
     "execution_count": 88,
     "metadata": {},
     "output_type": "execute_result"
    }
   ],
   "source": [
    "X_test1_dtm = vect1.transform(X_test)\n",
    "X_test1_dtm"
   ]
  },
  {
   "cell_type": "code",
   "execution_count": 89,
   "metadata": {
    "collapsed": false
   },
   "outputs": [
    {
     "data": {
      "text/plain": [
       "MultinomialNB(alpha=1.0, class_prior=None, fit_prior=True)"
      ]
     },
     "execution_count": 89,
     "metadata": {},
     "output_type": "execute_result"
    }
   ],
   "source": [
    "# let us use MultinomialNB to train the model\n",
    "\n",
    "nb.fit(X_train1_dtm,y_train)"
   ]
  },
  {
   "cell_type": "code",
   "execution_count": 90,
   "metadata": {
    "collapsed": false
   },
   "outputs": [],
   "source": [
    "# Let us make predictions for the test data\n",
    "\n",
    "y_pred_class1 = nb.predict(X_test1_dtm)"
   ]
  },
  {
   "cell_type": "code",
   "execution_count": 91,
   "metadata": {
    "collapsed": false
   },
   "outputs": [
    {
     "data": {
      "text/plain": [
       "0.4993010251630941"
      ]
     },
     "execution_count": 91,
     "metadata": {},
     "output_type": "execute_result"
    }
   ],
   "source": [
    "# Let us check the accuracy of the model\n",
    "\n",
    "metrics.accuracy_score(y_test,y_pred_class1)"
   ]
  },
  {
   "cell_type": "code",
   "execution_count": 92,
   "metadata": {
    "collapsed": false
   },
   "outputs": [
    {
     "data": {
      "text/plain": [
       "array([[ 365,   18,  165,  123,  111],\n",
       "       [ 114,   36,  264,  217,  111],\n",
       "       [  62,   19,  296,  659,  354],\n",
       "       [  37,   14,  150,  964, 1319],\n",
       "       [  22,    6,   54,  479, 2625]])"
      ]
     },
     "execution_count": 92,
     "metadata": {},
     "output_type": "execute_result"
    }
   ],
   "source": [
    "# Print the confusion matrix:\n",
    "\n",
    "metrics.confusion_matrix(y_test,y_pred_class1)"
   ]
  },
  {
   "cell_type": "code",
   "execution_count": 93,
   "metadata": {
    "collapsed": true
   },
   "outputs": [],
   "source": [
    "# We see that inspite of removing the stopwords and considering the n-grams the accuracy of the model decreases\n",
    "# when we use NultinomialNB"
   ]
  },
  {
   "cell_type": "markdown",
   "metadata": {},
   "source": [
    "# LINEAR SVC, REMOVAL OF STOPWORDS,CONSIDER N-GRAMS"
   ]
  },
  {
   "cell_type": "code",
   "execution_count": 94,
   "metadata": {
    "collapsed": false
   },
   "outputs": [
    {
     "data": {
      "text/plain": [
       "LinearSVC(C=1.0, class_weight=None, dual=True, fit_intercept=True,\n",
       "     intercept_scaling=1, loss='squared_hinge', max_iter=1000,\n",
       "     multi_class='ovr', penalty='l2', random_state=None, tol=0.0001,\n",
       "     verbose=0)"
      ]
     },
     "execution_count": 94,
     "metadata": {},
     "output_type": "execute_result"
    }
   ],
   "source": [
    "# Let us try if the same thing happens when we use LinearSVC considering removal of stopwords and ngrams\n",
    "\n",
    "linclf = LinearSVC()\n",
    "\n",
    "linclf.fit(X_train1_dtm,y_train)\n",
    "\n"
   ]
  },
  {
   "cell_type": "code",
   "execution_count": 95,
   "metadata": {
    "collapsed": true
   },
   "outputs": [],
   "source": [
    "y_pred_class_linsvc1 = linclf.predict(X_test1_dtm)"
   ]
  },
  {
   "cell_type": "code",
   "execution_count": 96,
   "metadata": {
    "collapsed": false
   },
   "outputs": [
    {
     "data": {
      "text/plain": [
       "0.48485554520037277"
      ]
     },
     "execution_count": 96,
     "metadata": {},
     "output_type": "execute_result"
    }
   ],
   "source": [
    "# Let us check the accuracy of the model\n",
    "\n",
    "metrics.accuracy_score(y_test,y_pred_class_linsvc1)"
   ]
  },
  {
   "cell_type": "code",
   "execution_count": 97,
   "metadata": {
    "collapsed": false
   },
   "outputs": [
    {
     "data": {
      "text/plain": [
       "array([[ 399,  120,  119,   82,   62],\n",
       "       [ 157,  156,  230,  135,   64],\n",
       "       [  84,  120,  474,  458,  254],\n",
       "       [  59,   99,  312, 1005, 1009],\n",
       "       [  42,   34,  175,  807, 2128]])"
      ]
     },
     "execution_count": 97,
     "metadata": {},
     "output_type": "execute_result"
    }
   ],
   "source": [
    "# Print the confusion matrix:\n",
    "\n",
    "metrics.confusion_matrix(y_test,y_pred_class_linsvc1)"
   ]
  },
  {
   "cell_type": "code",
   "execution_count": 98,
   "metadata": {
    "collapsed": true
   },
   "outputs": [],
   "source": [
    "# We see that even after removal of stopwords and considering ngrams, the accuracy has not improved at all\n",
    "\n",
    "# Instead of considering 5 classes let us consider building a classification model using only 2 ratings, to check whether we have\n",
    "# any imporvement in accuracy"
   ]
  },
  {
   "cell_type": "markdown",
   "metadata": {},
   "source": [
    "# BUILDING MODELS WITH 1 STAR AND 5 STAR REVIEWS"
   ]
  },
  {
   "cell_type": "code",
   "execution_count": 99,
   "metadata": {
    "collapsed": true
   },
   "outputs": [],
   "source": [
    "reviews_new = reviews_n[(reviews_n['reviewsrating']==1) | (reviews_n['reviewsrating'] == 5)]"
   ]
  },
  {
   "cell_type": "code",
   "execution_count": 100,
   "metadata": {
    "collapsed": false
   },
   "outputs": [
    {
     "data": {
      "text/plain": [
       "array([5, 1], dtype=int64)"
      ]
     },
     "execution_count": 100,
     "metadata": {},
     "output_type": "execute_result"
    }
   ],
   "source": [
    "reviews_new['reviewsrating'].unique()"
   ]
  },
  {
   "cell_type": "code",
   "execution_count": 101,
   "metadata": {
    "collapsed": false
   },
   "outputs": [
    {
     "data": {
      "text/plain": [
       "(15731, 2)"
      ]
     },
     "execution_count": 101,
     "metadata": {},
     "output_type": "execute_result"
    }
   ],
   "source": [
    "reviews_new.shape"
   ]
  },
  {
   "cell_type": "code",
   "execution_count": 102,
   "metadata": {
    "collapsed": false
   },
   "outputs": [
    {
     "data": {
      "text/plain": [
       "5    12664\n",
       "1     3067\n",
       "Name: reviewsrating, dtype: int64"
      ]
     },
     "execution_count": 102,
     "metadata": {},
     "output_type": "execute_result"
    }
   ],
   "source": [
    "reviews_new['reviewsrating'].value_counts()"
   ]
  },
  {
   "cell_type": "code",
   "execution_count": 103,
   "metadata": {
    "collapsed": false
   },
   "outputs": [],
   "source": [
    "reviews_new1 = reviews_new.dropna()"
   ]
  },
  {
   "cell_type": "code",
   "execution_count": 104,
   "metadata": {
    "collapsed": false
   },
   "outputs": [
    {
     "data": {
      "text/plain": [
       "(15731, 2)"
      ]
     },
     "execution_count": 104,
     "metadata": {},
     "output_type": "execute_result"
    }
   ],
   "source": [
    "reviews_new1.shape"
   ]
  },
  {
   "cell_type": "code",
   "execution_count": 105,
   "metadata": {
    "collapsed": false
   },
   "outputs": [
    {
     "name": "stdout",
     "output_type": "stream",
     "text": [
      "(15731,)\n",
      "(15731,)\n"
     ]
    }
   ],
   "source": [
    "# We will be applying the machine learning models\n",
    "# Let us define the X and y parameters that we will be feeding to our model\n",
    "\n",
    "X1 = reviews_new1.reviewstext\n",
    "y1 = reviews_new1.reviewsrating\n",
    "print(X1.shape)\n",
    "print(y1.shape)\n"
   ]
  },
  {
   "cell_type": "code",
   "execution_count": 106,
   "metadata": {
    "collapsed": false
   },
   "outputs": [
    {
     "name": "stdout",
     "output_type": "stream",
     "text": [
      "(11798,)\n",
      "(3933,)\n",
      "(11798,)\n",
      "(3933,)\n"
     ]
    }
   ],
   "source": [
    "# Let us now split the data into train and test sets\n",
    "\n",
    "from sklearn.cross_validation import train_test_split\n",
    "X_train1, X_test1, y_train1, y_test1 = train_test_split(X1,y1,random_state = 1)\n",
    "\n",
    "print(X_train1.shape)\n",
    "print(X_test1.shape)\n",
    "print(y_train1.shape)\n",
    "print(y_test1.shape)"
   ]
  },
  {
   "cell_type": "markdown",
   "metadata": {},
   "source": [
    "# MULTINOMIAL NB W STOPWORDS AND W/O N-GRAMS"
   ]
  },
  {
   "cell_type": "code",
   "execution_count": 107,
   "metadata": {
    "collapsed": true
   },
   "outputs": [],
   "source": [
    "vector1 = CountVectorizer()"
   ]
  },
  {
   "cell_type": "code",
   "execution_count": 108,
   "metadata": {
    "collapsed": false
   },
   "outputs": [],
   "source": [
    "X_train1_dtm1 = vector1.fit_transform(X_train1)"
   ]
  },
  {
   "cell_type": "code",
   "execution_count": 109,
   "metadata": {
    "collapsed": false
   },
   "outputs": [
    {
     "data": {
      "text/plain": [
       "<11798x17443 sparse matrix of type '<class 'numpy.int64'>'\n",
       "\twith 400998 stored elements in Compressed Sparse Row format>"
      ]
     },
     "execution_count": 109,
     "metadata": {},
     "output_type": "execute_result"
    }
   ],
   "source": [
    "X_train1_dtm1"
   ]
  },
  {
   "cell_type": "code",
   "execution_count": 110,
   "metadata": {
    "collapsed": false
   },
   "outputs": [
    {
     "data": {
      "text/plain": [
       "<3933x17443 sparse matrix of type '<class 'numpy.int64'>'\n",
       "\twith 133040 stored elements in Compressed Sparse Row format>"
      ]
     },
     "execution_count": 110,
     "metadata": {},
     "output_type": "execute_result"
    }
   ],
   "source": [
    "X_test1_dtm1 = vector1.transform(X_test1)\n",
    "X_test1_dtm1"
   ]
  },
  {
   "cell_type": "code",
   "execution_count": null,
   "metadata": {
    "collapsed": true
   },
   "outputs": [],
   "source": []
  },
  {
   "cell_type": "code",
   "execution_count": 111,
   "metadata": {
    "collapsed": false
   },
   "outputs": [
    {
     "data": {
      "text/plain": [
       "MultinomialNB(alpha=1.0, class_prior=None, fit_prior=True)"
      ]
     },
     "execution_count": 111,
     "metadata": {},
     "output_type": "execute_result"
    }
   ],
   "source": [
    "# Fitting the model to the train data\n",
    "\n",
    "nb.fit(X_train1_dtm1,y_train1)"
   ]
  },
  {
   "cell_type": "code",
   "execution_count": 112,
   "metadata": {
    "collapsed": true
   },
   "outputs": [],
   "source": [
    "# Fitting model to test data for prediction\n",
    "\n",
    "y_pred_class_mnb = nb.predict(X_test1_dtm1)"
   ]
  },
  {
   "cell_type": "code",
   "execution_count": 113,
   "metadata": {
    "collapsed": false
   },
   "outputs": [
    {
     "data": {
      "text/plain": [
       "0.94101195016526828"
      ]
     },
     "execution_count": 113,
     "metadata": {},
     "output_type": "execute_result"
    }
   ],
   "source": [
    "# Let us check the accuracy of the model\n",
    "\n",
    "metrics.accuracy_score(y_test1,y_pred_class_mnb)"
   ]
  },
  {
   "cell_type": "code",
   "execution_count": 114,
   "metadata": {
    "collapsed": false
   },
   "outputs": [
    {
     "data": {
      "text/plain": [
       "array([[ 675,   99],\n",
       "       [ 133, 3026]])"
      ]
     },
     "execution_count": 114,
     "metadata": {},
     "output_type": "execute_result"
    }
   ],
   "source": [
    "# Print the confusion matrix:\n",
    "\n",
    "metrics.confusion_matrix(y_test1,y_pred_class_mnb)"
   ]
  },
  {
   "cell_type": "markdown",
   "metadata": {},
   "source": [
    "# MULTINOMIAL NB W/O STOPWORDS AND W/ N-GRAMS"
   ]
  },
  {
   "cell_type": "code",
   "execution_count": 115,
   "metadata": {
    "collapsed": true
   },
   "outputs": [],
   "source": [
    "# Creating an instance\n",
    "\n",
    "vector2 = CountVectorizer(stop_words='english',ngram_range=(1,3))"
   ]
  },
  {
   "cell_type": "code",
   "execution_count": 116,
   "metadata": {
    "collapsed": true
   },
   "outputs": [],
   "source": [
    "# Transforming the data\n",
    "\n",
    "X_train1_dtm2 = vector2.fit_transform(X_train1)"
   ]
  },
  {
   "cell_type": "code",
   "execution_count": 117,
   "metadata": {
    "collapsed": false
   },
   "outputs": [
    {
     "data": {
      "text/plain": [
       "<11798x369275 sparse matrix of type '<class 'numpy.int64'>'\n",
       "\twith 703587 stored elements in Compressed Sparse Row format>"
      ]
     },
     "execution_count": 117,
     "metadata": {},
     "output_type": "execute_result"
    }
   ],
   "source": [
    "X_train1_dtm2"
   ]
  },
  {
   "cell_type": "code",
   "execution_count": 118,
   "metadata": {
    "collapsed": true
   },
   "outputs": [],
   "source": [
    "#Transforming the test data\n",
    "\n",
    "X_test1_dtm2 = vector2.transform(X_test1)"
   ]
  },
  {
   "cell_type": "code",
   "execution_count": 119,
   "metadata": {
    "collapsed": false
   },
   "outputs": [
    {
     "data": {
      "text/plain": [
       "MultinomialNB(alpha=1.0, class_prior=None, fit_prior=True)"
      ]
     },
     "execution_count": 119,
     "metadata": {},
     "output_type": "execute_result"
    }
   ],
   "source": [
    "# Fitting the model to the train data\n",
    "\n",
    "nb.fit(X_train1_dtm2,y_train1)"
   ]
  },
  {
   "cell_type": "code",
   "execution_count": 120,
   "metadata": {
    "collapsed": true
   },
   "outputs": [],
   "source": [
    "# Fitting model to test data for prediction\n",
    "\n",
    "y_pred_class_mnb1 = nb.predict(X_test1_dtm2)"
   ]
  },
  {
   "cell_type": "code",
   "execution_count": 121,
   "metadata": {
    "collapsed": false
   },
   "outputs": [
    {
     "data": {
      "text/plain": [
       "0.93389270277142133"
      ]
     },
     "execution_count": 121,
     "metadata": {},
     "output_type": "execute_result"
    }
   ],
   "source": [
    "# Let us check the accuracy of the model\n",
    "\n",
    "metrics.accuracy_score(y_test1,y_pred_class_mnb1)"
   ]
  },
  {
   "cell_type": "code",
   "execution_count": 122,
   "metadata": {
    "collapsed": false
   },
   "outputs": [
    {
     "data": {
      "text/plain": [
       "array([[ 675,   99],\n",
       "       [ 133, 3026]])"
      ]
     },
     "execution_count": 122,
     "metadata": {},
     "output_type": "execute_result"
    }
   ],
   "source": [
    "# Print the confusion matrix:\n",
    "\n",
    "metrics.confusion_matrix(y_test1,y_pred_class_mnb)"
   ]
  },
  {
   "cell_type": "code",
   "execution_count": 123,
   "metadata": {
    "collapsed": true
   },
   "outputs": [],
   "source": [
    "# We see that the accuracy actually decreases if we remove the stopwords and use n-grams"
   ]
  },
  {
   "cell_type": "markdown",
   "metadata": {},
   "source": [
    "# USING TFIDFVECTORIZER INSTEAD OF COUNTVECTORIZER"
   ]
  },
  {
   "cell_type": "code",
   "execution_count": 124,
   "metadata": {
    "collapsed": true
   },
   "outputs": [],
   "source": [
    "# Let us try and use tfidfvectorizer to see if we can increase the accuracy further\n",
    "\n",
    "from sklearn.feature_extraction.text import TfidfVectorizer\n"
   ]
  },
  {
   "cell_type": "code",
   "execution_count": 125,
   "metadata": {
    "collapsed": true
   },
   "outputs": [],
   "source": [
    "vector3 = TfidfVectorizer()"
   ]
  },
  {
   "cell_type": "code",
   "execution_count": 126,
   "metadata": {
    "collapsed": true
   },
   "outputs": [],
   "source": [
    "X_train2_dtm2 = vector3.fit_transform(X_train1)\n"
   ]
  },
  {
   "cell_type": "code",
   "execution_count": 127,
   "metadata": {
    "collapsed": false
   },
   "outputs": [
    {
     "data": {
      "text/plain": [
       "<11798x17443 sparse matrix of type '<class 'numpy.float64'>'\n",
       "\twith 400998 stored elements in Compressed Sparse Row format>"
      ]
     },
     "execution_count": 127,
     "metadata": {},
     "output_type": "execute_result"
    }
   ],
   "source": [
    "X_train2_dtm2"
   ]
  },
  {
   "cell_type": "code",
   "execution_count": 128,
   "metadata": {
    "collapsed": true
   },
   "outputs": [],
   "source": [
    "#Transforming the test data\n",
    "\n",
    "X_test2_dtm2 = vector3.transform(X_test1)"
   ]
  },
  {
   "cell_type": "code",
   "execution_count": 129,
   "metadata": {
    "collapsed": false
   },
   "outputs": [
    {
     "data": {
      "text/plain": [
       "MultinomialNB(alpha=1.0, class_prior=None, fit_prior=True)"
      ]
     },
     "execution_count": 129,
     "metadata": {},
     "output_type": "execute_result"
    }
   ],
   "source": [
    "# Fitting the model to the train data\n",
    "\n",
    "nb.fit(X_train2_dtm2,y_train1)"
   ]
  },
  {
   "cell_type": "code",
   "execution_count": 130,
   "metadata": {
    "collapsed": false
   },
   "outputs": [],
   "source": [
    "# Fitting model to test data for prediction\n",
    "\n",
    "y_pred_class_mnb2 = nb.predict(X_test2_dtm2)"
   ]
  },
  {
   "cell_type": "code",
   "execution_count": 131,
   "metadata": {
    "collapsed": false
   },
   "outputs": [
    {
     "data": {
      "text/plain": [
       "0.8667683702008645"
      ]
     },
     "execution_count": 131,
     "metadata": {},
     "output_type": "execute_result"
    }
   ],
   "source": [
    "# Let us check the accuracy of the model\n",
    "\n",
    "metrics.accuracy_score(y_test1,y_pred_class_mnb2)"
   ]
  },
  {
   "cell_type": "code",
   "execution_count": 132,
   "metadata": {
    "collapsed": false
   },
   "outputs": [
    {
     "data": {
      "text/plain": [
       "array([[ 260,  514],\n",
       "       [  10, 3149]])"
      ]
     },
     "execution_count": 132,
     "metadata": {},
     "output_type": "execute_result"
    }
   ],
   "source": [
    "# Print the confusion matrix:\n",
    "\n",
    "metrics.confusion_matrix(y_test1,y_pred_class_mnb2)"
   ]
  },
  {
   "cell_type": "code",
   "execution_count": 133,
   "metadata": {
    "collapsed": true
   },
   "outputs": [],
   "source": [
    "# If we use the tfidfvectorizer we see that the accuracy of the model decreases by almost 8%"
   ]
  }
 ],
 "metadata": {
  "anaconda-cloud": {},
  "kernelspec": {
   "display_name": "Python [default]",
   "language": "python",
   "name": "python3"
  },
  "language_info": {
   "codemirror_mode": {
    "name": "ipython",
    "version": 3
   },
   "file_extension": ".py",
   "mimetype": "text/x-python",
   "name": "python",
   "nbconvert_exporter": "python",
   "pygments_lexer": "ipython3",
   "version": "3.5.3"
  }
 },
 "nbformat": 4,
 "nbformat_minor": 1
}
